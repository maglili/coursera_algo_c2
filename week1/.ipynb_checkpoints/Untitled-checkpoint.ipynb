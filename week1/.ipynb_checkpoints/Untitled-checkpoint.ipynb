{
 "cells": [
  {
   "cell_type": "code",
   "execution_count": 1,
   "id": "28784acf",
   "metadata": {},
   "outputs": [],
   "source": [
    "graph = {}\n",
    "\n",
    "input_path = \"./test.txt\"\n",
    "with open(input_path) as fh:\n",
    "    for row in fh:\n",
    "        node1, node2 = row.split()\n",
    "        node1, node2 = int(node1), int(node2)\n",
    "        if node1 not in graph:\n",
    "            graph[node1] = [node2]\n",
    "        else:\n",
    "            graph[node1].append(node2)"
   ]
  },
  {
   "cell_type": "code",
   "execution_count": 54,
   "id": "18e00316",
   "metadata": {},
   "outputs": [],
   "source": [
    "def reversed_arc(graph):\n",
    "    graph_rev = {}\n",
    "    for tail_node, head_node_list in graph.items():\n",
    "        for node in head_node_list:\n",
    "            if node not in graph_rev:\n",
    "                graph_rev[node] = [tail_node]\n",
    "            else:\n",
    "                graph_rev[node].append(tail_node)\n",
    "    return graph_rev"
   ]
  },
  {
   "cell_type": "code",
   "execution_count": 55,
   "id": "3d7f90a8",
   "metadata": {},
   "outputs": [],
   "source": [
    "def DFS(graph, node):\n",
    "    \n",
    "    global t\n",
    "    \n",
    "    explored[node] = True\n",
    "    for head_node in graph[node]:\n",
    "        if head_node not in explored:\n",
    "            print(\"find\", head_node, '---')\n",
    "            DFS(graph, head_node)\n",
    "    t += 1\n",
    "    magic_order[node] = t"
   ]
  },
  {
   "cell_type": "code",
   "execution_count": 56,
   "id": "d2dec902",
   "metadata": {},
   "outputs": [],
   "source": [
    "def DFS_Loop(graph):\n",
    "    global t, explored, magic_order\n",
    "    t = 0\n",
    "    last_t = 0\n",
    "    explored = {}\n",
    "    magic_order = {}\n",
    "    num_graph = 0\n",
    "    \n",
    "    # reverse dict key\n",
    "    graph_key = list(graph.keys())\n",
    "    graph_key.sort(reverse=True)\n",
    "    print('graph_key:',graph_key)\n",
    "\n",
    "    for node in graph_key:\n",
    "        if node not in explored:\n",
    "            print(\"node:\", node, '=====')\n",
    "            DFS(graph, node)\n",
    "            num_graph += 1\n",
    "            \n",
    "            print(\"node of scc:\", t-last_t)\n",
    "            print('='*20)\n",
    "            last_t = t\n",
    "            \n",
    "    print('num of scc:', num_graph)"
   ]
  },
  {
   "cell_type": "code",
   "execution_count": 57,
   "id": "d10d1a49",
   "metadata": {},
   "outputs": [],
   "source": [
    "def mapping_magic_order(graph):\n",
    "    new_graph = {}\n",
    "\n",
    "    for tail_node, head_node_list in graph.items():\n",
    "\n",
    "        new_node = magic_order[tail_node]\n",
    "        new_head_node_list = []\n",
    "\n",
    "        for i in head_node_list:\n",
    "            new_head_node_list.append(magic_order[i])\n",
    "\n",
    "        new_graph[new_node] = new_head_node_list\n",
    "\n",
    "    return new_graph"
   ]
  },
  {
   "cell_type": "code",
   "execution_count": 68,
   "id": "811f6eff",
   "metadata": {},
   "outputs": [],
   "source": [
    "def kosaraju_scc(graph):\n",
    "    global new_graph, grev\n",
    "\n",
    "    # reversed graph\n",
    "    grev = reversed_arc(graph)\n",
    "\n",
    "    # 1st DFS on reversed graph\n",
    "    DFS_Loop(grev)\n",
    "    print(\"*\" * 20)\n",
    "\n",
    "    # map magic_order on graph\n",
    "    new_graph = mapping_magic_order(graph)\n",
    "    print(\"*\" * 20)\n",
    "\n",
    "#     # 2st DFS on reversed graph\n",
    "#     DFS_Loop(new_graph)"
   ]
  },
  {
   "cell_type": "code",
   "execution_count": 69,
   "id": "3b407847",
   "metadata": {},
   "outputs": [
    {
     "name": "stdout",
     "output_type": "stream",
     "text": [
      "graph_key: [9, 8, 7, 6, 5, 4, 3, 2, 1]\n",
      "node: 9 =====\n",
      "find 6 ---\n",
      "find 8 ---\n",
      "find 2 ---\n",
      "find 5 ---\n",
      "node of scc: 5\n",
      "====================\n",
      "node: 7 =====\n",
      "node of scc: 1\n",
      "====================\n",
      "node: 4 =====\n",
      "find 1 ---\n",
      "node of scc: 2\n",
      "====================\n",
      "node: 3 =====\n",
      "node of scc: 1\n",
      "====================\n",
      "num of scc: 4\n",
      "********************\n",
      "********************\n"
     ]
    }
   ],
   "source": [
    "kosaraju_scc(graph)"
   ]
  },
  {
   "cell_type": "code",
   "execution_count": 70,
   "id": "a0310085",
   "metadata": {},
   "outputs": [
    {
     "data": {
      "text/plain": [
       "{9: True,\n",
       " 6: True,\n",
       " 8: True,\n",
       " 2: True,\n",
       " 5: True,\n",
       " 7: True,\n",
       " 4: True,\n",
       " 1: True,\n",
       " 3: True}"
      ]
     },
     "execution_count": 70,
     "metadata": {},
     "output_type": "execute_result"
    }
   ],
   "source": [
    "explored"
   ]
  },
  {
   "cell_type": "code",
   "execution_count": 71,
   "id": "e8b3b158",
   "metadata": {},
   "outputs": [
    {
     "data": {
      "text/plain": [
       "9"
      ]
     },
     "execution_count": 71,
     "metadata": {},
     "output_type": "execute_result"
    }
   ],
   "source": [
    "t"
   ]
  },
  {
   "cell_type": "code",
   "execution_count": 72,
   "id": "6d66864e",
   "metadata": {},
   "outputs": [
    {
     "data": {
      "text/plain": [
       "{5: 1, 2: 2, 8: 3, 6: 4, 9: 5, 7: 6, 1: 7, 4: 8, 3: 9}"
      ]
     },
     "execution_count": 72,
     "metadata": {},
     "output_type": "execute_result"
    }
   ],
   "source": [
    "magic_order"
   ]
  },
  {
   "cell_type": "code",
   "execution_count": 73,
   "id": "43216d86",
   "metadata": {},
   "outputs": [
    {
     "data": {
      "text/plain": [
       "{7: [1], 5: [2], 9: [3, 7], 1: [4], 8: [5, 6], 2: [8], 6: [9]}"
      ]
     },
     "execution_count": 73,
     "metadata": {},
     "output_type": "execute_result"
    }
   ],
   "source": [
    "graph"
   ]
  },
  {
   "cell_type": "code",
   "execution_count": 74,
   "id": "c23c681f",
   "metadata": {},
   "outputs": [
    {
     "data": {
      "text/plain": [
       "{6: [7], 1: [2], 5: [9, 6], 7: [8], 3: [1, 4], 2: [3], 4: [5]}"
      ]
     },
     "execution_count": 74,
     "metadata": {},
     "output_type": "execute_result"
    }
   ],
   "source": [
    "new_graph"
   ]
  },
  {
   "cell_type": "code",
   "execution_count": 75,
   "id": "98bb398b",
   "metadata": {},
   "outputs": [
    {
     "data": {
      "text/plain": [
       "{1: [7], 2: [5], 3: [9], 7: [9], 4: [1], 5: [8], 6: [8], 8: [2], 9: [6]}"
      ]
     },
     "execution_count": 75,
     "metadata": {},
     "output_type": "execute_result"
    }
   ],
   "source": [
    "grev"
   ]
  },
  {
   "cell_type": "code",
   "execution_count": null,
   "id": "6cc16db3",
   "metadata": {},
   "outputs": [],
   "source": []
  }
 ],
 "metadata": {
  "kernelspec": {
   "display_name": "Python 3 (ipykernel)",
   "language": "python",
   "name": "python3"
  },
  "language_info": {
   "codemirror_mode": {
    "name": "ipython",
    "version": 3
   },
   "file_extension": ".py",
   "mimetype": "text/x-python",
   "name": "python",
   "nbconvert_exporter": "python",
   "pygments_lexer": "ipython3",
   "version": "3.8.6"
  },
  "toc": {
   "base_numbering": 1,
   "nav_menu": {},
   "number_sections": true,
   "sideBar": true,
   "skip_h1_title": false,
   "title_cell": "Table of Contents",
   "title_sidebar": "Contents",
   "toc_cell": false,
   "toc_position": {},
   "toc_section_display": true,
   "toc_window_display": false
  }
 },
 "nbformat": 4,
 "nbformat_minor": 5
}
