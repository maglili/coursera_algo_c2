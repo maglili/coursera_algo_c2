{
 "cells": [
  {
   "cell_type": "code",
   "execution_count": 1,
   "id": "c5f5522d",
   "metadata": {},
   "outputs": [],
   "source": [
    "import gc"
   ]
  },
  {
   "cell_type": "code",
   "execution_count": 2,
   "id": "28784acf",
   "metadata": {},
   "outputs": [],
   "source": [
    "graph = {}\n",
    "\n",
    "# input_path = \"./SCC.txt\"\n",
    "input_path = \"./test.txt\"\n",
    "with open(input_path) as fh:\n",
    "    for row in fh:\n",
    "        elements = row.split()\n",
    "        if elements == []:\n",
    "            continue\n",
    "        node1, node2 = elements\n",
    "        node1, node2 = int(node1), int(node2)\n",
    "        if node1 not in graph:\n",
    "            graph[node1] = [node2]\n",
    "        else:\n",
    "            graph[node1].append(node2)\n",
    "\n",
    "        # sink node\n",
    "        if node2 not in graph:\n",
    "            graph[node2] = []"
   ]
  },
  {
   "cell_type": "code",
   "execution_count": 3,
   "id": "18e00316",
   "metadata": {},
   "outputs": [],
   "source": [
    "def reversed_arc(graph):\n",
    "    graph_rev = {}\n",
    "    for tail_node, head_node_list in graph.items():\n",
    "        for node in head_node_list:\n",
    "            if node not in graph_rev:\n",
    "                graph_rev[node] = [tail_node]\n",
    "            else:\n",
    "                graph_rev[node].append(tail_node)\n",
    "    return graph_rev"
   ]
  },
  {
   "cell_type": "code",
   "execution_count": 4,
   "id": "3d7f90a8",
   "metadata": {},
   "outputs": [],
   "source": [
    "def DFS(graph, node):\n",
    "\n",
    "    global t\n",
    "\n",
    "    explored[node] = True\n",
    "\n",
    "    # check if a sink node\n",
    "    if node in graph:\n",
    "        for head_node in graph[node]:\n",
    "            if head_node not in explored:\n",
    "                # print(\"find\", head_node, \"---\")\n",
    "                DFS(graph, head_node)\n",
    "    t += 1\n",
    "    magic_order[node] = t"
   ]
  },
  {
   "cell_type": "code",
   "execution_count": 5,
   "id": "d2dec902",
   "metadata": {},
   "outputs": [],
   "source": [
    "def DFS_Loop(graph, info=False):\n",
    "    global t, explored, magic_order\n",
    "    t = 0\n",
    "    last_t = 0\n",
    "    explored = {}\n",
    "    magic_order = {}\n",
    "    num_graph = 0\n",
    "\n",
    "    scc_info = [0] * 5\n",
    "\n",
    "    # reverse dict key\n",
    "    graph_key = list(graph.keys())\n",
    "    graph_key.sort(reverse=True)\n",
    "\n",
    "    for node in graph_key:\n",
    "        if node not in explored:\n",
    "            # print(\"node:\", node, \"=====\")\n",
    "            DFS(graph, node)\n",
    "            scc_info.sort()\n",
    "            if info:\n",
    "                for idx, num in enumerate(scc_info):\n",
    "                    if (t - last_t) > num:\n",
    "                        scc_info[idx] = t - last_t\n",
    "                        break\n",
    "            last_t = t\n",
    "\n",
    "    return scc_info"
   ]
  },
  {
   "cell_type": "code",
   "execution_count": 6,
   "id": "d10d1a49",
   "metadata": {},
   "outputs": [],
   "source": [
    "def mapping_magic_order(graph):\n",
    "    new_graph = {}\n",
    "\n",
    "    for tail_node, head_node_list in graph.items():\n",
    "\n",
    "        new_node = magic_order[tail_node]\n",
    "        new_head_node_list = []\n",
    "\n",
    "        for i in head_node_list:\n",
    "            new_head_node_list.append(magic_order[i])\n",
    "\n",
    "        new_graph[new_node] = new_head_node_list\n",
    "\n",
    "    return new_graph"
   ]
  },
  {
   "cell_type": "code",
   "execution_count": 7,
   "id": "811f6eff",
   "metadata": {},
   "outputs": [],
   "source": [
    "def kosaraju_scc(graph):\n",
    "    global new_graph, grev\n",
    "    scc_info = []\n",
    "\n",
    "    # reversed graph\n",
    "    grev = reversed_arc(graph)\n",
    "\n",
    "    # 1st DFS on reversed graph\n",
    "    DFS_Loop(grev)\n",
    "    # print(magic_order)\n",
    "    print(\"\\n===1st DFS finish!===\\n\")\n",
    "\n",
    "    del grev\n",
    "    gc.collect()\n",
    "\n",
    "    # map magic_order on graph\n",
    "    new_graph = mapping_magic_order(graph)\n",
    "    print(\"\\n===map magic_order finish!===\\n\")\n",
    "\n",
    "    del graph\n",
    "    gc.collect()\n",
    "\n",
    "    # 2st DFS on reversed graph\n",
    "    scc_info = DFS_Loop(new_graph, info=True)\n",
    "\n",
    "    # output answer\n",
    "    scc_info.sort(reverse=True)\n",
    "\n",
    "    return scc_info"
   ]
  },
  {
   "cell_type": "code",
   "execution_count": 8,
   "id": "3b407847",
   "metadata": {},
   "outputs": [
    {
     "name": "stdout",
     "output_type": "stream",
     "text": [
      "\n",
      "===1st DFS finish!===\n",
      "\n",
      "\n",
      "===map magic_order finish!===\n",
      "\n"
     ]
    },
    {
     "data": {
      "text/plain": [
       "[3, 3, 3, 0, 0]"
      ]
     },
     "execution_count": 8,
     "metadata": {},
     "output_type": "execute_result"
    }
   ],
   "source": [
    "scc_info = kosaraju_scc(graph)\n",
    "scc_info"
   ]
  },
  {
   "cell_type": "code",
   "execution_count": null,
   "id": "5bff9b61",
   "metadata": {},
   "outputs": [],
   "source": []
  }
 ],
 "metadata": {
  "kernelspec": {
   "display_name": "Python 3",
   "language": "python",
   "name": "python3"
  },
  "language_info": {
   "codemirror_mode": {
    "name": "ipython",
    "version": 3
   },
   "file_extension": ".py",
   "mimetype": "text/x-python",
   "name": "python",
   "nbconvert_exporter": "python",
   "pygments_lexer": "ipython3",
   "version": "3.8.6"
  },
  "toc": {
   "base_numbering": 1,
   "nav_menu": {},
   "number_sections": true,
   "sideBar": true,
   "skip_h1_title": false,
   "title_cell": "Table of Contents",
   "title_sidebar": "Contents",
   "toc_cell": false,
   "toc_position": {},
   "toc_section_display": true,
   "toc_window_display": false
  }
 },
 "nbformat": 4,
 "nbformat_minor": 5
}
